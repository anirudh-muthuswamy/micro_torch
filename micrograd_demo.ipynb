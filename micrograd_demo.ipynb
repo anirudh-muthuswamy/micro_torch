{
 "cells": [
  {
   "cell_type": "code",
   "execution_count": 1,
   "metadata": {},
   "outputs": [],
   "source": [
    "from nn import MLP"
   ]
  },
  {
   "cell_type": "code",
   "execution_count": 2,
   "metadata": {},
   "outputs": [
    {
     "name": "stdout",
     "output_type": "stream",
     "text": [
      "NN parameters: 41\n"
     ]
    }
   ],
   "source": [
    "nn = MLP(3, [4, 4, 1])\n",
    "print(\"NN parameters:\", len(nn.parameters()))\n",
    "\n",
    "xs = [\n",
    "    [2.0, 3.0, -1.0],\n",
    "    [3.0, -1.0, 0.5],\n",
    "    [0.5, 1.0, 1.0],\n",
    "    [1.0, 1.0, -1.0]\n",
    "]\n",
    "ys = [1.0, -1.0, -1.0, 1.0]\n"
   ]
  },
  {
   "cell_type": "code",
   "execution_count": 3,
   "metadata": {},
   "outputs": [
    {
     "name": "stdout",
     "output_type": "stream",
     "text": [
      "iter: 0 loss: 3.4806742653347422\n",
      "iter: 1 loss: 2.3006946320187676\n",
      "iter: 2 loss: 1.9476186168052303\n",
      "iter: 3 loss: 1.2967917610130504\n",
      "iter: 4 loss: 0.8739991011605864\n",
      "iter: 5 loss: 0.4827606949526393\n",
      "iter: 6 loss: 0.37004170718149054\n",
      "iter: 7 loss: 0.30825477845568316\n",
      "iter: 8 loss: 0.26266957494937865\n",
      "iter: 9 loss: 0.22781774457669243\n"
     ]
    }
   ],
   "source": [
    "for k in range(10):\n",
    "    \n",
    "    # forward_pass:\n",
    "    ypred = [nn(x) for x in xs]\n",
    "    loss = sum((yout - ygt)**2 for ygt, yout in zip(ys, ypred))\n",
    "\n",
    "    #backward_pass\n",
    "    for p in nn.parameters():\n",
    "        p.grad = 0.0\n",
    "    loss.backward()\n",
    "\n",
    "    #update\n",
    "    for p in nn.parameters():\n",
    "        p.data += -0.05 * p.grad\n",
    "\n",
    "    print(\"iter:\", k, \"loss:\", loss.data)\n"
   ]
  },
  {
   "cell_type": "code",
   "execution_count": null,
   "metadata": {},
   "outputs": [],
   "source": []
  },
  {
   "cell_type": "code",
   "execution_count": null,
   "metadata": {},
   "outputs": [],
   "source": []
  },
  {
   "cell_type": "code",
   "execution_count": null,
   "metadata": {},
   "outputs": [],
   "source": []
  }
 ],
 "metadata": {
  "kernelspec": {
   "display_name": "pytorch-env",
   "language": "python",
   "name": "python3"
  },
  "language_info": {
   "codemirror_mode": {
    "name": "ipython",
    "version": 3
   },
   "file_extension": ".py",
   "mimetype": "text/x-python",
   "name": "python",
   "nbconvert_exporter": "python",
   "pygments_lexer": "ipython3",
   "version": "3.10.10"
  }
 },
 "nbformat": 4,
 "nbformat_minor": 2
}
